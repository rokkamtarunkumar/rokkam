{
  "metadata": {
    "kernelspec": {
      "name": "python",
      "display_name": "Python (Pyodide)",
      "language": "python"
    },
    "language_info": {
      "codemirror_mode": {
        "name": "python",
        "version": 3
      },
      "file_extension": ".py",
      "mimetype": "text/x-python",
      "name": "python",
      "nbconvert_exporter": "python",
      "pygments_lexer": "ipython3",
      "version": "3.8"
    }
  },
  "nbformat_minor": 4,
  "nbformat": 4,
  "cells": [
    {
      "cell_type": "markdown",
      "source": "# <H1> Data Science Tools and Ecosystem",
      "metadata": {}
    },
    {
      "cell_type": "markdown",
      "source": "# Introduction\nIn this notebook, Data Science Tools and Ecosystem are summarized.",
      "metadata": {}
    },
    {
      "cell_type": "markdown",
      "source": "# Objectives:\n1. List populular languages.\n2. List common libraries used by Data scientists.\n3. List Data Science Tools",
      "metadata": {}
    },
    {
      "cell_type": "markdown",
      "source": "# Some of the popular languages that Data Scientists use are:\n1. Python\n2. R\n3. Java",
      "metadata": {
        "scrolled": true
      }
    },
    {
      "cell_type": "markdown",
      "source": "# Some of the commonly used libraries used by Data Scientists include:\n1. NumPy, Matplotlib & Pandas from Python\n2. ggplot2 from R\n3. Vegas from Scala",
      "metadata": {}
    },
    {
      "cell_type": "markdown",
      "source": "# Data Science Tools\n\n<table ><tr><th> S.No <th><th> Data Science Tools <th><tr>\n<tr><td> 1 <td><td> Jupyter Notebooks <td><tr>\n<tr><td> 1 <td><td> R Studio <td><tr>\n<tr><td> 1 <td><td> Spyder <td><tr>\n<table>",
      "metadata": {}
    },
    {
      "cell_type": "markdown",
      "source": "# <h3>Below are a few examples of evaluating arithmetic expressions in Python. <h3>",
      "metadata": {}
    },
    {
      "cell_type": "code",
      "source": "# Importing necessary libraries\nimport numpy as np\n\n# Variables\na = 3\nb = 4\nc = 5\n\n# This a simple arithmetic expression to mutiply then add integers\n\nresult = np.multiply(a, b)+c\n\n# Displaying the result\nprint(f'Result => {result}')",
      "metadata": {
        "trusted": true
      },
      "outputs": [
        {
          "name": "stdout",
          "text": "Result => 17\n",
          "output_type": "stream"
        }
      ],
      "execution_count": 9
    },
    {
      "cell_type": "code",
      "source": "# Importing necessary libraries\nimport numpy as np\n\n# Variables\nminutes = 200\n\n\n# This will convert 200 minutes to hours by diving by 60\n\nresult = np.divide(minutes, 60)\n\n# Displaying the result\nprint(f'Result => {result}')",
      "metadata": {
        "trusted": true
      },
      "outputs": [
        {
          "name": "stdout",
          "text": "Result => 3.3333333333333335\n",
          "output_type": "stream"
        }
      ],
      "execution_count": 10
    },
    {
      "cell_type": "markdown",
      "source": "# <h2> Author: </h2> \nRokkam Tarun Kumar",
      "metadata": {}
    },
    {
      "cell_type": "markdown",
      "source": "# <h4 >Github Repo Link : https://github.com/rokkamtarunkumar/rokkam/tree/main  <h4>",
      "metadata": {}
    },
    {
      "cell_type": "code",
      "source": "",
      "metadata": {
        "trusted": true
      },
      "outputs": [],
      "execution_count": null
    }
  ]
}